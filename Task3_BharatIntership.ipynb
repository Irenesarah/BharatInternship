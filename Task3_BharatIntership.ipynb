{
 "cells": [
  {
   "cell_type": "markdown",
   "id": "5daf36af",
   "metadata": {},
   "source": [
    "### Number Recognition "
   ]
  },
  {
   "cell_type": "code",
   "execution_count": 1,
   "id": "8cadc55e",
   "metadata": {},
   "outputs": [],
   "source": [
    "import tensorflow as tf\n",
    "from tensorflow import keras\n",
    "from tensorflow.keras import layers\n",
    "from tensorflow.keras.datasets import mnist"
   ]
  },
  {
   "cell_type": "markdown",
   "id": "7f017b6c",
   "metadata": {},
   "source": [
    "### Loading the dataset and preprocessing "
   ]
  },
  {
   "cell_type": "code",
   "execution_count": 3,
   "id": "1fd5252c",
   "metadata": {},
   "outputs": [],
   "source": [
    "(x_train, y_train), (x_test, y_test) = mnist.load_data()\n",
    "x_train, x_test = x_train / 255.0, x_test / 255.0"
   ]
  },
  {
   "cell_type": "markdown",
   "id": "5922cb5f",
   "metadata": {},
   "source": [
    "### Model creation"
   ]
  },
  {
   "cell_type": "code",
   "execution_count": 4,
   "id": "078226e9",
   "metadata": {},
   "outputs": [],
   "source": [
    "model = keras.Sequential([\n",
    "    keras.layers.Flatten(input_shape=(28, 28)),  # Flatten the 28x28 image to a 1D array\n",
    "    keras.layers.Dense(128, activation='relu'),  # Fully connected layer with ReLU activation\n",
    "    keras.layers.Dropout(0.2),  # Dropout layer to reduce overfitting\n",
    "    keras.layers.Dense(10)  # Output layer with 10 units for digits 0-9\n",
    "])"
   ]
  },
  {
   "cell_type": "code",
   "execution_count": 5,
   "id": "3f1b7545",
   "metadata": {},
   "outputs": [],
   "source": [
    "# Compile the model\n",
    "model.compile(optimizer='adam',\n",
    "              loss=tf.keras.losses.SparseCategoricalCrossentropy(from_logits=True),\n",
    "              metrics=['accuracy'])"
   ]
  },
  {
   "cell_type": "code",
   "execution_count": 6,
   "id": "9c727527",
   "metadata": {},
   "outputs": [
    {
     "name": "stdout",
     "output_type": "stream",
     "text": [
      "Epoch 1/5\n",
      "1875/1875 [==============================] - 12s 6ms/step - loss: 0.2919 - accuracy: 0.9153\n",
      "Epoch 2/5\n",
      "1875/1875 [==============================] - 10s 5ms/step - loss: 0.1423 - accuracy: 0.9587\n",
      "Epoch 3/5\n",
      "1875/1875 [==============================] - 10s 6ms/step - loss: 0.1080 - accuracy: 0.9667\n",
      "Epoch 4/5\n",
      "1875/1875 [==============================] - 10s 5ms/step - loss: 0.0880 - accuracy: 0.9733\n",
      "Epoch 5/5\n",
      "1875/1875 [==============================] - 10s 5ms/step - loss: 0.0724 - accuracy: 0.9767\n"
     ]
    },
    {
     "data": {
      "text/plain": [
       "<keras.src.callbacks.History at 0x1728dc24650>"
      ]
     },
     "execution_count": 6,
     "metadata": {},
     "output_type": "execute_result"
    }
   ],
   "source": [
    "# Train the model\n",
    "model.fit(x_train, y_train, epochs=5)"
   ]
  },
  {
   "cell_type": "code",
   "execution_count": 8,
   "id": "a5afd21b",
   "metadata": {},
   "outputs": [
    {
     "name": "stdout",
     "output_type": "stream",
     "text": [
      "313/313 - 2s - loss: 0.0706 - accuracy: 0.9787 - 2s/epoch - 5ms/step\n",
      "\n",
      "Test accuracy: 0.9786999821662903\n"
     ]
    }
   ],
   "source": [
    "# Evaluate the model\n",
    "test_loss, test_acc = model.evaluate(x_test, y_test, verbose=2)\n",
    "print(\"\\nTest accuracy:\", test_acc)"
   ]
  },
  {
   "cell_type": "code",
   "execution_count": 9,
   "id": "33c190ff",
   "metadata": {},
   "outputs": [
    {
     "name": "stdout",
     "output_type": "stream",
     "text": [
      "313/313 [==============================] - 1s 4ms/step\n"
     ]
    }
   ],
   "source": [
    "# Make predictions\n",
    "predictions = model.predict(x_test)"
   ]
  },
  {
   "cell_type": "code",
   "execution_count": 10,
   "id": "8e778857",
   "metadata": {},
   "outputs": [],
   "source": [
    "import numpy as np\n",
    "\n",
    "# Use argmax to find the predicted digit for each test sample\n",
    "predicted_labels = np.argmax(predictions, axis=1)"
   ]
  },
  {
   "cell_type": "code",
   "execution_count": 12,
   "id": "14a790bd",
   "metadata": {},
   "outputs": [
    {
     "name": "stdout",
     "output_type": "stream",
     "text": [
      "Confusion Matrix:\n",
      "[[ 971    0    0    1    1    0    2    1    4    0]\n",
      " [   0 1124    3    1    0    0    2    2    3    0]\n",
      " [   2    1 1004    3    1    1    2    5   13    0]\n",
      " [   1    0    1  989    0    3    0    4    8    4]\n",
      " [   2    0    4    1  958    0    3    2    4    8]\n",
      " [   2    0    0    9    1  867    1    1    8    3]\n",
      " [   5    2    1    1    3    4  937    0    5    0]\n",
      " [   2    6    7    5    0    0    0 1000    4    4]\n",
      " [   3    0    2    1    3    1    2    2  958    2]\n",
      " [   2    4    0    7    8    3    1    3    2  979]]\n"
     ]
    }
   ],
   "source": [
    "from sklearn.metrics import confusion_matrix\n",
    "\n",
    "# Create the confusion matrix\n",
    "confusion = confusion_matrix(y_test, predicted_labels)\n",
    "print(\"Confusion Matrix:\")\n",
    "print(confusion)\n"
   ]
  },
  {
   "cell_type": "code",
   "execution_count": 13,
   "id": "cbb31f0f",
   "metadata": {},
   "outputs": [
    {
     "data": {
      "image/png": "[encoded data removed]",
      "text/plain": [
       "<Figure size 1200x600 with 10 Axes>"
      ]
     },
     "metadata": {},
     "output_type": "display_data"
    }
   ],
   "source": [
    "import matplotlib.pyplot as plt\n",
    "\n",
    "# Choose a few random test samples to visualize\n",
    "num_samples = 10\n",
    "sample_indices = np.random.choice(len(x_test), num_samples)\n",
    "\n",
    "plt.figure(figsize=(12, 6))\n",
    "for i, idx in enumerate(sample_indices):\n",
    "    plt.subplot(2, 5, i + 1)\n",
    "    plt.imshow(x_test[idx], cmap='gray')\n",
    "    plt.title(f\"Actual: {y_test[idx]}\\nPredicted: {predicted_labels[idx]}\")\n",
    "    plt.axis('off')\n",
    "\n",
    "plt.show()\n"
   ]
  },
  {
   "cell_type": "code",
   "execution_count": null,
   "id": "df6e66d5",
   "metadata": {},
   "outputs": [],
   "source": []
  }
 ],
 "metadata": {
  "kernelspec": {
   "display_name": "Python 3 (ipykernel)",
   "language": "python",
   "name": "python3"
  },
  "language_info": {
   "codemirror_mode": {
    "name": "ipython",
    "version": 3
   },
   "file_extension": ".py",
   "mimetype": "text/x-python",
   "name": "python",
   "nbconvert_exporter": "python",
   "pygments_lexer": "ipython3",
   "version": "3.11.4"
  }
 },
 "nbformat": 4,
 "nbformat_minor": 5
}
